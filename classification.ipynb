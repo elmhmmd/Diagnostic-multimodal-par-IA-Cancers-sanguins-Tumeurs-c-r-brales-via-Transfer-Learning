{
 "cells": [
  {
   "cell_type": "markdown",
   "id": "7fea44d9",
   "metadata": {},
   "source": [
    "---\n",
    "### Chargmenet et Verification des images\n",
    "Charger les images du dataset et vérifier leurs extensions (jpeg, jpg, bmp, png). Supprimer celles qui ne correspondent pas.\n"
   ]
  },
  {
   "cell_type": "code",
   "execution_count": null,
   "id": "b63fc3b4",
   "metadata": {},
   "outputs": [
    {
     "name": "stdout",
     "output_type": "stream",
     "text": [
      "total fils:  3242\n",
      "files withiut extention  0\n",
      "{'Benign': 0, 'early Pre-B': 0, 'Pre-B': 0, 'Pro-B': 0}\n"
     ]
    }
   ],
   "source": [
    "import os \n",
    "\n",
    "# data path\n",
    "data_path = \"data/data_blood_cell_cancer/\" \n",
    "\n",
    "\n",
    "folders = os.listdir(data_path)\n",
    "\n",
    "invalid_files  = []\n",
    "classesWithoutExt  = {}\n",
    "\n",
    "filescounter =0\n",
    "\n",
    "allowed_extensions = [\".jpeg\", \".jpg\", \".bmp\", \".png\"]\n",
    "\n",
    "for folder in folders:\n",
    "    folder_path = os.path.join(data_path, folder)\n",
    "\n",
    "    # Skip if not a directory\n",
    "    if not os.path.isdir(folder_path):\n",
    "        continue\n",
    "\n",
    "    classesWithoutExt[folder]=0\n",
    "\n",
    "    for file in os.listdir(folder_path):\n",
    "\n",
    "        file_path = os.path.join(folder_path, file)\n",
    "        name,ext = os.path.splitext(file)\n",
    "\n",
    "        filescounter+=1\n",
    "\n",
    "        try:\n",
    "            if ext.lower() == \"\" or ext.lower() not in allowed_extensions:\n",
    "                classesWithoutExt[folder]+=1\n",
    "                invalid_files.append(file)\n",
    "                \n",
    "                print(f\"Deleting file without extension: {file_path}\")\n",
    "\n",
    "                # data/folder/image\n",
    "                # os.remove(file_path)\n",
    "        except FileNotFoundError:\n",
    "            print(f\"Fichier introuvable : {file_path}\")\n",
    "        except Exception as e:\n",
    "            print(f\"Erreur inattendue avec {file_path}: {e}\")\n",
    "\n",
    "\n",
    "\n",
    "print(\"total fils: \",filescounter)\n",
    "print(\"files withiut extention \",len(invalid_files)) # 32 file witout extention\n",
    "print(classesWithoutExt) \n",
    "\n",
    "# output\n",
    "# 32\n",
    "# {'glioma': 6, 'meningioma': 10, 'notumor': 7, 'pituitary': 9}\n"
   ]
  }
 ],
 "metadata": {
  "kernelspec": {
   "display_name": "Python 3",
   "language": "python",
   "name": "python3"
  },
  "language_info": {
   "codemirror_mode": {
    "name": "ipython",
    "version": 3
   },
   "file_extension": ".py",
   "mimetype": "text/x-python",
   "name": "python",
   "nbconvert_exporter": "python",
   "pygments_lexer": "ipython3",
   "version": "3.13.7"
  }
 },
 "nbformat": 4,
 "nbformat_minor": 5
}
