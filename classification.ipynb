{
 "cells": [
  {
   "cell_type": "markdown",
   "id": "7fea44d9",
   "metadata": {},
   "source": [
    "---\n",
    "### Chargmenet et Verification des images\n",
    "Charger les images du dataset et vérifier leurs extensions (jpeg, jpg, bmp, png). Supprimer celles qui ne correspondent pas.\n"
   ]
  },
  {
   "cell_type": "code",
   "execution_count": 2,
   "id": "6b13de13",
   "metadata": {},
   "outputs": [],
   "source": [
    "data_path = \"data/data_blood_cell_cancer/\" \n"
   ]
  },
  {
   "cell_type": "code",
   "execution_count": 3,
   "id": "b63fc3b4",
   "metadata": {},
   "outputs": [
    {
     "name": "stdout",
     "output_type": "stream",
     "text": [
      "total fils:  3242\n",
      "files withiut extention  0\n",
      "{'Benign': 0, 'early Pre-B': 0, 'Pre-B': 0, 'Pro-B': 0}\n"
     ]
    }
   ],
   "source": [
    "import os \n",
    "\n",
    "# data path\n",
    "\n",
    "data_path = \"data/data_blood_cell_cancer/\" \n",
    "\n",
    "folders = os.listdir(data_path)\n",
    "\n",
    "invalid_files  = []\n",
    "classesWithoutExt  = {}\n",
    "\n",
    "filescounter =0\n",
    "\n",
    "allowed_extensions = [\".jpeg\", \".jpg\", \".bmp\", \".png\"]\n",
    "\n",
    "for folder in folders:\n",
    "    folder_path = os.path.join(data_path, folder)\n",
    "\n",
    "    # Skip if not a directory\n",
    "    if not os.path.isdir(folder_path):\n",
    "        continue\n",
    "\n",
    "    classesWithoutExt[folder]=0\n",
    "\n",
    "    for file in os.listdir(folder_path):\n",
    "\n",
    "        file_path = os.path.join(folder_path, file)\n",
    "        name,ext = os.path.splitext(file)\n",
    "\n",
    "        filescounter+=1\n",
    "\n",
    "        try:\n",
    "            if ext.lower() == \"\" or ext.lower() not in allowed_extensions:\n",
    "                classesWithoutExt[folder]+=1\n",
    "                invalid_files.append(file)\n",
    "                \n",
    "                print(f\"Deleting file without extension: {file_path}\")\n",
    "\n",
    "                # data/folder/image\n",
    "                # os.remove(file_path)\n",
    "        except FileNotFoundError:\n",
    "            print(f\"Fichier introuvable : {file_path}\")\n",
    "        except Exception as e:\n",
    "            print(f\"Erreur inattendue avec {file_path}: {e}\")\n",
    "\n",
    "\n",
    "\n",
    "print(\"total fils: \",filescounter)\n",
    "print(\"files withiut extention \",len(invalid_files)) \n",
    "print(classesWithoutExt) \n",
    "\n"
   ]
  },
  {
   "cell_type": "markdown",
   "id": "fda52973",
   "metadata": {},
   "source": [
    "---\n",
    "images and lables extracting"
   ]
  },
  {
   "cell_type": "code",
   "execution_count": 4,
   "id": "384bee2a",
   "metadata": {},
   "outputs": [
    {
     "name": "stdout",
     "output_type": "stream",
     "text": [
      "Total images: 3242\n",
      "Total labels: 3242\n"
     ]
    }
   ],
   "source": [
    "import random\n",
    "import cv2\n",
    "import numpy as np\n",
    "\n",
    "# folder path\n",
    "data_path = \"data/data_blood_cell_cancer/\" \n",
    "folders = os.listdir(data_path)\n",
    "\n",
    "images = []\n",
    "labels = []\n",
    "\n",
    "for folder in folders:\n",
    "\n",
    "    folder_path = os.path.join(data_path, folder)\n",
    "    if not os.path.isdir(folder_path):\n",
    "        continue\n",
    "\n",
    "    for file in os.listdir(folder_path):\n",
    "\n",
    "        file_path = os.path.join(folder_path, file)\n",
    "\n",
    "        try:\n",
    "            # read images as color (BGR) and convert to RGB\n",
    "            image = cv2.imread(file_path, cv2.IMREAD_COLOR)  # returns (H, W, 3) in BGR\n",
    "\n",
    "            # Check if image was loaded successfully\n",
    "            if image is None:\n",
    "                print(f\"Warning: Could not load image {file_path}\")\n",
    "                continue\n",
    "\n",
    "            # convert BGR to RGB\n",
    "            image = cv2.cvtColor(image, cv2.COLOR_BGR2RGB)\n",
    "\n",
    "            # resize to 224x224\n",
    "            image = cv2.resize(image, (224, 224))\n",
    "\n",
    "            # RGB images already have channel dimension (224, 224, 3)\n",
    "            images.append(image)\n",
    "            labels.append(folder)  # folder name is the label name\n",
    "\n",
    "        except Exception as e:\n",
    "            print(f\"Error processing {file_path}: {e}\")\n",
    "            continue\n",
    "\n",
    "# -------------------------------------\n",
    "\n",
    "# shuffling\n",
    "combined = list(zip(images, labels))\n",
    "random.shuffle(combined)\n",
    "images, labels = zip(*combined)  # unzip back to separate lists\n",
    "\n",
    "# Convert to list (zip returns tuples)\n",
    "images = list(images)\n",
    "labels = list(labels)\n",
    "\n",
    "# Convert to numpy array\n",
    "images = np.array(images)\n",
    "labels = np.array(labels)\n",
    "\n",
    "# summary\n",
    "print(f\"Total images: {len(images)}\")\n",
    "print(f\"Total labels: {len(labels)}\")\n"
   ]
  }
 ],
 "metadata": {
  "kernelspec": {
   "display_name": "Python 3",
   "language": "python",
   "name": "python3"
  },
  "language_info": {
   "codemirror_mode": {
    "name": "ipython",
    "version": 3
   },
   "file_extension": ".py",
   "mimetype": "text/x-python",
   "name": "python",
   "nbconvert_exporter": "python",
   "pygments_lexer": "ipython3",
   "version": "3.13.7"
  }
 },
 "nbformat": 4,
 "nbformat_minor": 5
}
