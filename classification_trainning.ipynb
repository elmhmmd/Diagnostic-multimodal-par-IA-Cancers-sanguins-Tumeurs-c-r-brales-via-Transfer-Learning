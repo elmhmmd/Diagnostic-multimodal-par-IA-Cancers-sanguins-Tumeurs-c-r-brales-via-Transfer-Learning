{
 "cells": [
  {
   "cell_type": "code",
   "execution_count": 1,
   "id": "746b4ee6",
   "metadata": {},
   "outputs": [],
   "source": [
    "# load loaders from data/loaders/train , test , val .pt\n",
    "import torch\n",
    "\n",
    "train_loader = torch.load('data/loaders/train_loader.pt',weights_only=False)\n",
    "test_loader = torch.load('data/loaders/test_loader.pt',weights_only=False)\n",
    "val_loader = torch.load('data/loaders/val_loader.pt',weights_only=False)\n",
    "\n"
   ]
  },
  {
   "cell_type": "code",
   "execution_count": 2,
   "id": "f9b78b51",
   "metadata": {},
   "outputs": [
    {
     "name": "stdout",
     "output_type": "stream",
     "text": [
      "2.9.0+cpu\n"
     ]
    }
   ],
   "source": [
    "print(torch.__version__)"
   ]
  },
  {
   "cell_type": "markdown",
   "id": "bdd905ce",
   "metadata": {},
   "source": [
    "---\n",
    "- usegin pretrained googlenet model (trasferlearning)\n",
    "- "
   ]
  },
  {
   "cell_type": "code",
   "execution_count": 3,
   "id": "3697d3ea",
   "metadata": {},
   "outputs": [
    {
     "name": "stdout",
     "output_type": "stream",
     "text": [
      "device :  cpu\n"
     ]
    }
   ],
   "source": [
    "import torch\n",
    "import torch.nn as nn\n",
    "import torchvision.models as models\n",
    "\n",
    "\n",
    "# device config to use gpu if its available else cpu \n",
    "device = 'cuda' if torch.cuda.is_available() else 'cpu'\n",
    "print(\"device : \",device)\n",
    "\n",
    "# Add after your device setup:\n",
    "if device == 'cuda':\n",
    "    torch.backends.cudnn.benchmark = True  # Optimize for consistent input sizes\n",
    "    print(f\"GPU: {torch.cuda.get_device_name(0)}\")\n",
    "    print(f\"GPU Memory: {torch.cuda.get_device_properties(0).total_memory / 1e9:.1f} GB\")\n",
    "\n",
    "# Load pretrained GoogLeNet\n",
    "# pretrained ? \n",
    "# model = models.googlenet(pretrained=True) # Old way (deprecated):\n",
    "\n",
    "model = models.googlenet(weights='IMAGENET1K_V1')  # Modern PyTorch\n",
    "\n",
    "\n",
    "# freeze all parameters (transfer learning)\n",
    "for param in model.parameters():\n",
    "    param.requires_grad = False\n",
    "\n",
    "\n",
    "\n",
    "# replace fully connected part (fn)\n",
    "# with a sequential fully connected network adapted for the specific classification task (Transfer Learning).\n",
    "\n",
    "\n",
    "\n",
    "# Get the input features for the final FC layer\n",
    "in_features = model.fc.in_features # 1024\n",
    "\n",
    "num_classes = 4  # blood categories\n",
    "\n",
    "# replace the FC \n",
    "model.fc = nn.Sequential(\n",
    "    nn.Linear(in_features, 512), #hidden layer\n",
    "    nn.ReLU(),\n",
    "    nn.Dropout(0.6),\n",
    "\n",
    "    # nn.BatchNorm1d(512),\n",
    "    # nn.Linear(512, 256),\n",
    "    # nn.ReLU(),\n",
    "    # nn.Dropout(0.3),\n",
    "    \n",
    "    # this layer use softmax by default\n",
    "    nn.Linear(512, num_classes)# final layer \n",
    ")\n",
    "\n",
    "model = model.to(device)"
   ]
  },
  {
   "cell_type": "markdown",
   "id": "2dcb1e3d",
   "metadata": {},
   "source": []
  },
  {
   "cell_type": "markdown",
   "id": "6c945cc1",
   "metadata": {},
   "source": [
    "Determiner le learning rate et loss function et aussi l’optomizer pour le modele\n"
   ]
  },
  {
   "cell_type": "code",
   "execution_count": 4,
   "id": "3e37e806",
   "metadata": {},
   "outputs": [],
   "source": [
    "\n",
    "# learning rate \n",
    "learning_rate = 0.001 \n",
    "\n",
    "# loss function - CrossEntropyLoss for multi-class classification\n",
    "criterion = nn.CrossEntropyLoss()\n",
    "\n",
    "# adam as optimzer\n",
    "optimizer = torch.optim.Adam(\n",
    "    model.fc.parameters(),\n",
    "    lr=learning_rate,\n",
    "    weight_decay=1e-4  # Adds L2 regularization penalty to loss function\n",
    ")\n",
    "\n",
    "# What Weight Decay Does:\n",
    "# - Adds L2 regularization penalty to loss function\n",
    "# - Prevents weights from becoming too large\n",
    "# - Reduces overfitting (especially important with small datasets)\n",
    "# - Helps model generalize better to unseen data\n",
    "\n"
   ]
  },
  {
   "cell_type": "code",
   "execution_count": 5,
   "id": "326db82e",
   "metadata": {},
   "outputs": [],
   "source": [
    "\n",
    "# 5. Training and validation functions\n",
    "def train_one_epoch(model, loader, criterion, optimizer, device):\n",
    "    model.train()\n",
    "    running_loss, correct, total = 0.0, 0, 0\n",
    "\n",
    "    for images, labels in loader:\n",
    "        images, labels = images.to(device), labels.to(device)\n",
    "        optimizer.zero_grad()\n",
    "\n",
    "        outputs = model(images)\n",
    "        loss = criterion(outputs, labels)\n",
    "        loss.backward()\n",
    "        optimizer.step()\n",
    "\n",
    "        running_loss += loss.item()\n",
    "        _, predicted = outputs.max(1)\n",
    "        total += labels.size(0)\n",
    "        correct += predicted.eq(labels).sum().item()\n",
    "\n",
    "    return running_loss / len(loader), 100 * correct / total\n",
    "\n",
    "\n",
    "def evaluate(model, loader, criterion, device):\n",
    "    model.eval()\n",
    "    running_loss, correct, total = 0.0, 0, 0\n",
    "    with torch.no_grad():\n",
    "        for images, labels in loader:\n",
    "            images, labels = images.to(device), labels.to(device)\n",
    "            outputs = model(images)\n",
    "            loss = criterion(outputs, labels)\n",
    "            running_loss += loss.item()\n",
    "\n",
    "            _, predicted = outputs.max(1)\n",
    "            total += labels.size(0)\n",
    "            correct += predicted.eq(labels).sum().item()\n",
    "\n",
    "    return running_loss / len(loader), 100 * correct / total\n"
   ]
  },
  {
   "cell_type": "code",
   "execution_count": null,
   "id": "104d5102",
   "metadata": {},
   "outputs": [
    {
     "name": "stdout",
     "output_type": "stream",
     "text": [
      "\n",
      "Epoch [1/20]\n"
     ]
    },
    {
     "name": "stderr",
     "output_type": "stream",
     "text": [
      "c:\\Users\\alibo\\AppData\\Local\\Programs\\Python\\Python313\\Lib\\site-packages\\torch\\utils\\data\\dataloader.py:668: UserWarning: 'pin_memory' argument is set as true but no accelerator is found, then device pinned memory won't be used.\n",
      "  warnings.warn(warn_msg)\n"
     ]
    }
   ],
   "source": [
    "# train model\n",
    "import time\n",
    "\n",
    "epochs = 20\n",
    "best_val_acc = 0.0\n",
    "train_losses, val_losses = [], []\n",
    "train_accs, val_accs = [], []\n",
    "\n",
    "\n",
    "for epoch in range(epochs):\n",
    "    start_time = time.time()\n",
    "    print(f\"\\nEpoch [{epoch+1}/{epochs}]\")\n",
    "\n",
    "    # Training phase\n",
    "    train_loss, train_acc = train_one_epoch(model, train_loader, criterion, optimizer, device)\n",
    "    val_loss, val_acc = evaluate(model, val_loader, criterion, device)\n",
    "\n",
    "    # Store metrics for plotting later\n",
    "    train_losses.append(train_loss)\n",
    "    val_losses.append(val_loss)\n",
    "    train_accs.append(train_acc)\n",
    "    val_accs.append(val_acc)\n",
    "\n",
    "    # time calc stuf\n",
    "    epoch_time = time.time() - start_time\n",
    "    print(f\"Train Loss: {train_loss:.4f} | Train Acc: {train_acc:.2f}%\")\n",
    "    print(f\"Val Loss:   {val_loss:.4f} | Val Acc:   {val_acc:.2f}%\")\n",
    "    print(f\"Time: {epoch_time:.2f}s\")\n",
    "\n",
    "    # Save best model\n",
    "    if val_acc > best_val_acc:\n",
    "        best_val_acc = val_acc\n",
    "        torch.save(model.state_dict(), 'best_googlenet.pth')\n",
    "        print(\"✅ Best model saved!\")\n",
    "\n",
    "\n",
    "# 7. Final evaluation on test set\n",
    "print(\"\\nEvaluating on Test Data...\")\n",
    "model.load_state_dict(torch.load('best_googlenet.pth', map_location=device))\n",
    "test_loss, test_acc = evaluate(model, test_loader, criterion, device)\n",
    "print(f\"Test Loss: {test_loss:.4f} | Test Accuracy: {test_acc:.2f}%\")\n",
    "\n"
   ]
  },
  {
   "cell_type": "code",
   "execution_count": null,
   "id": "56e3791d",
   "metadata": {},
   "outputs": [],
   "source": [
    "# Evaluate and test the model after training to measure its performance, accuracy, and generalization capability on unseen data."
   ]
  },
  {
   "cell_type": "code",
   "execution_count": null,
   "id": "0083027b",
   "metadata": {},
   "outputs": [
    {
     "data": {
      "image/png": "[encoded data removed]",
      "text/plain": [
       "<Figure size 1200x400 with 2 Axes>"
      ]
     },
     "metadata": {},
     "output_type": "display_data"
    }
   ],
   "source": [
    "# Add training visualization after training:\n",
    "import matplotlib.pyplot as plt\n",
    "\n",
    "# Plot training curves\n",
    "fig, (ax1, ax2) = plt.subplots(1, 2, figsize=(12, 4))\n",
    "\n",
    "# Loss plot\n",
    "ax1.plot(train_losses, label='Train Loss', color='blue')\n",
    "ax1.plot(val_losses, label='Val Loss', color='red')\n",
    "ax1.set_title('Training and Validation Loss')\n",
    "ax1.set_xlabel('Epoch')\n",
    "ax1.set_ylabel('Loss')\n",
    "ax1.legend()\n",
    "ax1.grid(True)\n",
    "\n",
    "# Accuracy plot\n",
    "ax2.plot(train_accs, label='Train Acc', color='blue')\n",
    "ax2.plot(val_accs, label='Val Acc', color='red')\n",
    "ax2.set_title('Training and Validation Accuracy')\n",
    "ax2.set_xlabel('Epoch')\n",
    "ax2.set_ylabel('Accuracy (%)')\n",
    "ax2.legend()\n",
    "ax2.grid(True)\n",
    "\n",
    "plt.tight_layout()\n",
    "plt.show()"
   ]
  },
  {
   "cell_type": "code",
   "execution_count": null,
   "id": "48346dcd",
   "metadata": {},
   "outputs": [],
   "source": [
    "# Save the trained model.\n",
    "\n",
    "# After training is complete:\n",
    "torch.save(model.state_dict(), 'googlenet_trained_weights.pth')\n",
    "# Or to save the whole model and its weights:\n",
    "# torch.save(model, 'googlenet_full_model.pth')"
   ]
  }
 ],
 "metadata": {
  "kernelspec": {
   "display_name": "Python 3",
   "language": "python",
   "name": "python3"
  },
  "language_info": {
   "codemirror_mode": {
    "name": "ipython",
    "version": 3
   },
   "file_extension": ".py",
   "mimetype": "text/x-python",
   "name": "python",
   "nbconvert_exporter": "python",
   "pygments_lexer": "ipython3",
   "version": "3.13.7"
  }
 },
 "nbformat": 4,
 "nbformat_minor": 5
}
